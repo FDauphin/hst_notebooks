{
 "cells": [
  {
   "cell_type": "markdown",
   "metadata": {},
   "source": [
    "<a id=\"title\"></a>\n",
    "# Synphot and STSynphot Examples for WFC3\n",
    "***\n",
    "## Learning Goals\n",
    "\n",
    "By the end of this tutorial, you will:\n",
    "\n",
    "- Specify WFC3 bandpasses in `stsynphot` and define spectra with `synphot`.\n",
    "- Compute inverse sensitivity values and an encircled energy correction for the WFC3 chips.\n",
    "- Renormalize a spectrum and predict its effective stimulus in another filter.\n",
    "- Find the color term between two bandpasses.\n",
    "- Find the UV color term for two different spectral types, across the two UVIS chips.\n",
    "- Plot bandpasses and spectra.\n",
    "\n",
    "## Table of Contents\n",
    "\n",
    "[Introduction](#intro) <br>\n",
    "[1. Imports](#imports) <br>\n",
    "[2. Bandpasses and spectra](#band_spec) <br>\n",
    "- [2.1 Setting up bandpasses](#band) <br>\n",
    "- [2.2 Defining spectra](#spec) <br>\n",
    "\n",
    "[3. Examples](#ex) <br>\n",
    "- [3.1.1 Example 1a: Compute inverse sensitivity values for the WFC3 chips](#e1) <br>\n",
    "- [3.1.2 Example 1b: Compute an encircled energy correction](#e1b) <br>\n",
    "- [3.2 Example 2: Renormalize a spectrum and predict its effective stimulus in another filter](#e2) <br>\n",
    "- [3.3 Example 3: Find the color term between two bandpasses](#e3) <br>\n",
    "- [3.4.1 Example 4a: Find the UV color term for two different spectral types, across the two UVIS chips](#e4) <br>\n",
    "- [3.4.2 Example 4b: Plot bandpasses and spectra](#e4b)\n",
    "\n",
    "[4. Conclusions](#conclusion) <br>\n",
    "[Additional Resources](#resources) <br>\n",
    "[About the Notebook](#about) <br>\n",
    "[Citations](#cite) <br>"
   ]
  },
  {
   "cell_type": "markdown",
   "metadata": {},
   "source": [
    "<a id=\"intro\"></a>\n",
    "## Introduction\n",
    "\n",
    "This notebook contains several examples of how to use the `synphot` and `stsynphot` modules for various photometric purposes. \n",
    "\n",
    "`synphot` is a Python module that facilitates synthetic photometry, which has an extension module called `stsynphot` to add support for STScI missions. `synphot` is meant to be a replacement for AstroLib `pysynphot`. \n",
    "\n",
    "Examples 1, 2, and 3 are based on those found in Section 9.1.10 of the 2018 version of the WFC3 Data Handbook. \n",
    "\n",
    "`stsynphot` requires access to data distributed by the [Calibration Data Reference System](https://hst-crds.stsci.edu/) (CRDS) in order to operate. Both packages look for an environment variable called `PYSYN_CDBS` to find the directory containing these data.\n",
    "\n",
    "Users can obtain these data files from the CDRS. Information on how to obtain the most up-to-date reference files (and what they contain) can be found [here](https://www.stsci.edu/hst/instrumentation/reference-data-for-calibration-and-tools/synphot-throughput-tables). An example of how to download the files with `curl` and set up this environment variable is presented below.\n",
    "\n",
    "For detailed instructions on how to install and set up these packages, see the [synphot](https://synphot.readthedocs.io/en/latest/#installation-and-setup) and [stsynphot](https://stsynphot.readthedocs.io/en/latest/#installation-and-setup) documentation."
   ]
  },
  {
   "cell_type": "markdown",
   "metadata": {},
   "source": [
    "<a id=\"imports\"></a>\n",
    "## 1. Imports\n",
    "\n",
    "This notebook assumes you have created the virtual environment in [WFC3 Library's](https://github.com/spacetelescope/WFC3Library) installation instructions.\n",
    "\n",
    "We import:\n",
    "- *os* for setting environment variables\n",
    "\n",
    "- *numpy* for handling array functions\n",
    "- *pandas* for handling tables\n",
    "- *matplotlib.pyplot* for plotting data\n",
    "\n",
    "- *synphot* and *stsynphot* for evaluating synthetic photometry\n",
    "- *astropy.units* and *synphot.units* for handling units\n",
    "\n",
    "Additionally, we create a Vega spectrum using synphot's inbuilt `from_vega()` method *before* importing `stsynphot`, as the latter package will supercede this method's functionality and require a downloaded copy of the latest Vega spectrum to be provided."
   ]
  },
  {
   "cell_type": "code",
   "execution_count": null,
   "metadata": {},
   "outputs": [],
   "source": [
    "%matplotlib notebook\n",
    "\n",
    "import os\n",
    "\n",
    "import numpy as np\n",
    "import pandas as pd\n",
    "import matplotlib.pyplot as plt\n",
    "\n",
    "import synphot as syn\n",
    "\n",
    "vegaspec = syn.SourceSpectrum.from_vega()\n",
    "\n",
    "import stsynphot as stsyn\n",
    "\n",
    "from astropy import units as u\n",
    "from synphot import units as su"
   ]
  },
  {
   "cell_type": "markdown",
   "metadata": {},
   "source": [
    "If reference files need to be downloaded, please uncomment and execute the code block below."
   ]
  },
  {
   "cell_type": "code",
   "execution_count": null,
   "metadata": {},
   "outputs": [],
   "source": [
    "# cmd_input = 'curl -O ftp://archive.stsci.edu/pub/hst/pysynphot/synphot1.tar.gz'\n",
    "# os.system(cmd_input)"
   ]
  },
  {
   "cell_type": "markdown",
   "metadata": {},
   "source": [
    "If environment variables need to be set up, please uncomment and execute the relevant line from the code block below. Please be sure to unzip `synphot1.tar.gz` beforehand."
   ]
  },
  {
   "cell_type": "code",
   "execution_count": null,
   "metadata": {},
   "outputs": [],
   "source": [
    "os.environ['PYSYN_CDBS'] = 'grp/hst/cdbs/'"
   ]
  },
  {
   "cell_type": "markdown",
   "metadata": {},
   "source": [
    "## 2. Bandpasses and spectra  <a class=\"anchor\" id=\"band_spec\"></a>\n",
    "\n",
    "### 2.1 Setting up bandpasses <a class=\"anchor\" id=\"band\"></a>\n",
    "\n",
    "All of the examples below require us to define a bandpass. Bandpasses are defined in `stsynphot` using a string of comma-separated keywords that represents a particular observation mode (obsmode). For WFC3, an obsmode string will, at minimum, look something like: `\"wfc3, [detector], [filter]\"`. E.g. `\"wfc3, uvis1, f606w\"` will get you the bandpass for the F606W filter on WFC3's UVIS1 detector. One may also specify an aperture size in arcseconds with `aper#value` and a Modified Julian Date (to account for time-dependent changes in the UVIS detector sensitivity) with `mjd#value`.\n",
    "\n",
    "The documentation [here](https://stsynphot.readthedocs.io/en/latest/stsynphot/obsmode.html) provides a further overview of how to construct an observation mode, and includes a link to the full set of available obsmode keywords.\n",
    "\n",
    "### 2.2 Defining spectra <a class=\"anchor\" id=\"spec\"></a>\n",
    "\n",
    "Examples 2-4 require us to define a spectrum. Examples for generating some commonly useful spectra using `synphot` are embedded here:\n",
    "\n",
    "\n",
    "```python\n",
    "# Blackbody\n",
    "bb_temp = 5800 * u.K\n",
    "\n",
    "model = syn.models.BlackBody1D(bb_temp)\n",
    "spec  = syn.SourceSpectrum(model)\n",
    "\n",
    "# Power law \n",
    "pl_index = 0\n",
    "\n",
    "model = syn.models.PowerLawFlux1D(amplitude=flux_in, x_0=wl_in, alpha=pl_index)\n",
    "spec  = syn.SourceSpectrum(model)\n",
    "                                  \n",
    "# Load from a FITS table (e.g. a CALSPEC spectrum)\n",
    "spec = syn.SourceSpectrum.from_file('/path/to/your/spectrum.fits')\n",
    "```\n",
    "\n",
    "Note:\n",
    "\n",
    "- `synphot.models.BlackBody1D` outputs a function according to Planck's law, which means that the output unit carries an *implicit* \"per unit solid angle,\" in steradians. `BlackBodyNorm1D`, outputs a spectrum that is normalized to a 1 solar radius star at a distance of 1 kpc.\n",
    "\n",
    "- `synphot.models.PowerLawFlux1D` uses the definition $ f(x) = A (\\frac{x}{x_0})^{-\\alpha} $. We pass `flux_in` as $A$, and `wl_in` as $x_0$. Note the negative sign in front of the power law index $\\alpha$. The model can generate curves with $x$ as either frequency or wavelength, but the example here assumes that wavelength will be used. The y-axis unit will be taken from $A$. \n",
    "\n",
    "- A wide array of reference spectra are available for download from spectral atlases located [here](https://www.stsci.edu/hst/instrumentation/reference-data-for-calibration-and-tools/astronomical-catalogs)."
   ]
  },
  {
   "cell_type": "markdown",
   "metadata": {},
   "source": [
    "<a id=\"ex\"></a>\n",
    "## 3. Examples\n",
    "The next four examples follow the objectives outlined in the learning goals."
   ]
  },
  {
   "cell_type": "markdown",
   "metadata": {},
   "source": [
    "<a class=\"anchor\" id=\"e1\"></a>\n",
    "### 3.1.1 Example 1a: Compute WFC3 inverse sensitivity values\n",
    "**Compute inverse sensitivity values (and equivalent STmag, ABmag, and vegamag values) for F814W on UVIS1 in an infinite (6.0”) aperture.**\n",
    "\n",
    "This example should reproduce the values found in Table 6 of [WFC3 ISR 2021-04](https://www.stsci.edu/files/live/sites/www/files/home/hst/instrumentation/wfc3/documentation/instrument-science-reports-isrs/_documents/2021/WFC3_ISR_2021-04.pdf), the relevant row of which is reproduced here:\n",
    "\n",
    "| Filter \t| Pivot Wavelength \t| PHOTFLAM   \t| STMAG  \t| ABMAG  \t| VEGAMAG \t|\n",
    "|:--------\t|:-----------------\t|:------------\t|:--------\t|:--------\t|:---------\t|\n",
    "| F814W  \t| 8039.1 Å         \t| 1.4980e-19 \t| 25.961 \t| 25.127 \t| 24.699  \t|\n",
    "\n",
    "We include the keywords `'aper#6.0'` and `'mjd#55008'` in our obsmode string to match the aperture and reference epoch used for the calculations in this ISR.\n",
    "\n",
    "The WFC3 Zeropoints notebook, which can be found in the [WFC3 Library](https://github.com/spacetelescope/WFC3Library), contains an example to perform this calculation iteratively over all UVIS and IR bandpasses, and optionally create system throughput tables for each mode."
   ]
  },
  {
   "cell_type": "markdown",
   "metadata": {},
   "source": [
    "First, we set up a bandpass based on our observation mode. "
   ]
  },
  {
   "cell_type": "code",
   "execution_count": null,
   "metadata": {},
   "outputs": [],
   "source": [
    "obsmode = 'wfc3, uvis1, f814w, aper#6.0, mjd#55008'\n",
    "bp = stsyn.band(obsmode)"
   ]
  },
  {
   "cell_type": "markdown",
   "metadata": {},
   "source": [
    "Then, we can find the unit response for the bandpass, which is the flux (in erg cm$^{-2}$ s$^{-1}$ Å$^{-1}$, aka FLAM) that produces 1 e$^-$ per second. For this calculation, we must pass the HST primary mirror area. "
   ]
  },
  {
   "cell_type": "code",
   "execution_count": null,
   "metadata": {},
   "outputs": [],
   "source": [
    "uresp = bp.unit_response(stsyn.conf.area)"
   ]
  },
  {
   "cell_type": "markdown",
   "metadata": {},
   "source": [
    "Next, we convert the unit response to magnitudes in the ST and AB systems. For the AB conversion, we need the bandpass pivot wavelength."
   ]
  },
  {
   "cell_type": "code",
   "execution_count": null,
   "metadata": {},
   "outputs": [],
   "source": [
    "st = -2.5 * np.log10(uresp.value) - 21.1  \n",
    "\n",
    "pivot = bp.pivot()  # Pivot wavelength, for ABmag conversion\n",
    "ab = st - 5 * np.log10(pivot.value) + 18.6921"
   ]
  },
  {
   "cell_type": "markdown",
   "metadata": {},
   "source": [
    "Converting the unit response for the bandpass to the vegamag system requires us to generate a synthetic Observation, which consists of Vega's spectrum convolved with the bandpass."
   ]
  },
  {
   "cell_type": "code",
   "execution_count": null,
   "metadata": {},
   "outputs": [],
   "source": [
    "obs = syn.Observation(stsyn.Vega, bp, binset=bp.binset)\n",
    "effstim = obs.effstim(flux_unit=su.FLAM)  # Effective stimulus for Vega observation\n",
    "ve = -2.5 * np.log10(uresp/effstim)  # vegamag sensitivity value"
   ]
  },
  {
   "cell_type": "markdown",
   "metadata": {},
   "source": [
    "Now, we can print our results."
   ]
  },
  {
   "cell_type": "code",
   "execution_count": null,
   "metadata": {},
   "outputs": [],
   "source": [
    "print('Obsmode:', obsmode)\n",
    "print('Pivot Wavelength: {:.1f}'.format(pivot))\n",
    "print()\n",
    "print('PHOTFLAM: {:.6}'.format(uresp))\n",
    "print('STmag:    {:.3f}'.format(st))\n",
    "print('ABmag:    {:.3f}'.format(ab))\n",
    "print('VEGAMAG:  {:.3f}'.format(ve))"
   ]
  },
  {
   "cell_type": "markdown",
   "metadata": {},
   "source": [
    "<a class=\"anchor\" id=\"e1b\"></a>\n",
    "### 3.1.2 Example 1b: Compute an encircled energy correction\n",
    "\n",
    "As an addendum to the previous example, we can calculate the unit response for the same bandpass, but with a ~10 pixel aperture (0.4\"), and compute the encircled energy correction, in magnitudes, with respect to the infinite aperture. This may be useful to you if you perform photometry with smaller than infinite apertures.\n",
    "\n",
    "First, we set up the new bandpass for the smaller aperture size."
   ]
  },
  {
   "cell_type": "code",
   "execution_count": null,
   "metadata": {},
   "outputs": [],
   "source": [
    "obsmode_04 = 'wfc3, uvis1, f814w, aper#0.4, mjd#55008'  # Set obsmode string\n",
    "bp_04 = stsyn.band(obsmode_04)"
   ]
  },
  {
   "cell_type": "markdown",
   "metadata": {},
   "source": [
    "Then, we find the unit response for the new bandpass."
   ]
  },
  {
   "cell_type": "code",
   "execution_count": null,
   "metadata": {},
   "outputs": [],
   "source": [
    "uresp_04 = bp_04.unit_response(stsyn.conf.area)"
   ]
  },
  {
   "cell_type": "markdown",
   "metadata": {},
   "source": [
    "Finally, we convert the unit response to a magnitude in the ST system, and find the difference between it and the corresponding value for the infinite aperture. This is our encircled energy correction."
   ]
  },
  {
   "cell_type": "code",
   "execution_count": null,
   "metadata": {},
   "outputs": [],
   "source": [
    "st_04 = -2.5 * np.log10(uresp_04.value) - 21.1\n",
    "\n",
    "st_eecorr = st - st_04\n",
    "\n",
    "print('EE Correction (10 pixels -> infinity): {:.3f}'.format(st_eecorr))"
   ]
  },
  {
   "cell_type": "markdown",
   "metadata": {},
   "source": [
    "<a class=\"anchor\" id=\"e2\"></a>\n",
    "### 3.2 Example 2: Renormalize a spectrum and predict its magnitude in another bandpass\n",
    "**Renormalize a 2,500 K blackbody spectrum to have 1 ct/s in the Johnson V band, and output the predicted AB magnitude for its observation through the F110W filter on WFC3/IR.**\n",
    "\n",
    "This example reproduces the methods described in section 3 of [WFC3 ISR 2014-16](https://www.stsci.edu/files/live/sites/www/files/home/hst/instrumentation/wfc3/documentation/instrument-science-reports-isrs/_documents/2014/WFC3-2014-16.pdf), but will automatically use the latest available spectra and throughput tables."
   ]
  },
  {
   "cell_type": "markdown",
   "metadata": {},
   "source": [
    "First, we define a Johnson V bandpass to normalize our spectrum to."
   ]
  },
  {
   "cell_type": "code",
   "execution_count": null,
   "metadata": {},
   "outputs": [],
   "source": [
    "vband = stsyn.band('johnson, v')"
   ]
  },
  {
   "cell_type": "markdown",
   "metadata": {},
   "source": [
    "Then, we define the output bandpass for the calculation."
   ]
  },
  {
   "cell_type": "code",
   "execution_count": null,
   "metadata": {},
   "outputs": [],
   "source": [
    "obsmode = 'wfc3, ir, f110w'\n",
    "bp = stsyn.band(obsmode)"
   ]
  },
  {
   "cell_type": "markdown",
   "metadata": {},
   "source": [
    "Next, we choose a 2500 K blackbody model, fit our spectrum to the model, and use the `normalize` method to normalize the spectrum to one count/s in the V band."
   ]
  },
  {
   "cell_type": "code",
   "execution_count": null,
   "metadata": {},
   "outputs": [],
   "source": [
    "model = syn.models.BlackBody1D(2500)\n",
    "spec = syn.SourceSpectrum(model)\n",
    "spec_norm = spec.normalize(1*u.ct, vband, area=stsyn.conf.area)"
   ]
  },
  {
   "cell_type": "markdown",
   "metadata": {},
   "source": [
    "Finally, we generate a synthetic Observation, which consists of the normalized spectrum convolved with the bandpass, and print the predicted flux (in FLAM) and ABmag values for our Observation."
   ]
  },
  {
   "cell_type": "code",
   "execution_count": null,
   "metadata": {},
   "outputs": [],
   "source": [
    "obs = syn.Observation(spec_norm, bp)\n",
    "\n",
    "flux = obs.effstim(flux_unit=su.FLAM)\n",
    "ab = obs.effstim(flux_unit=u.ABmag)\n",
    "\n",
    "print('Predicted flux:  {:.4}  for Obsmode = {}'.format(flux, obsmode))\n",
    "print('Predicted ABmag: {:.3f}  for Obsmode = {}'.format(ab, obsmode))"
   ]
  },
  {
   "cell_type": "markdown",
   "metadata": {},
   "source": [
    "<a class=\"anchor\" id=\"e3\"></a>\n",
    "### 3.3 Example 3: Find the color term between two bandpasses\n",
    "**Find the color term for a 5,000 K blackbody between the Cousins-I and WFC3/UVIS1 F814W bandpasses in the ABmag system.**\n",
    "\n",
    "This example demonstrates an equivalent functionality to that of the [UVIS filter transformations tool](https://colortool.stsci.edu/uvis-filter-transformations/), which is no longer supported. An expansion upon this can be found in the filter transformations notebook in the [WFC3 Library](https://github.com/spacetelescope/WFC3Library)."
   ]
  },
  {
   "cell_type": "markdown",
   "metadata": {},
   "source": [
    "First, we set up two bandpasses based on our observation modes. "
   ]
  },
  {
   "cell_type": "code",
   "execution_count": null,
   "metadata": {},
   "outputs": [],
   "source": [
    "obsmode1 = 'wfc3, uvis1, f814w'\n",
    "obsmode2 = 'cousins, i'\n",
    "\n",
    "bp1 = stsyn.band(obsmode1)\n",
    "bp2 = stsyn.band(obsmode2)"
   ]
  },
  {
   "cell_type": "markdown",
   "metadata": {},
   "source": [
    "Then, we choose a 5000 K blackbody model and fit our spectrum to the model."
   ]
  },
  {
   "cell_type": "code",
   "execution_count": null,
   "metadata": {},
   "outputs": [],
   "source": [
    "model = syn.models.BlackBody1D(5000.)\n",
    "spec = syn.SourceSpectrum(model)"
   ]
  },
  {
   "cell_type": "markdown",
   "metadata": {},
   "source": [
    "Next, we generate two synthetic Observations, which consists of the blackbody spectrum convolved with the bandpass."
   ]
  },
  {
   "cell_type": "code",
   "execution_count": null,
   "metadata": {},
   "outputs": [],
   "source": [
    "obs1 = syn.Observation(spec, bp1, binset=bp1.binset)\n",
    "obs2 = syn.Observation(spec, bp2, binset=bp2.binset)"
   ]
  },
  {
   "cell_type": "markdown",
   "metadata": {},
   "source": [
    "Finally, we calculate the color term by finding the difference between the two effective stimuli in ABmag."
   ]
  },
  {
   "cell_type": "code",
   "execution_count": null,
   "metadata": {},
   "outputs": [],
   "source": [
    "stim1 = obs1.effstim(flux_unit=u.ABmag)\n",
    "stim2 = obs2.effstim(flux_unit=u.ABmag)\n",
    "\n",
    "color = stim2 - stim1\n",
    "\n",
    "print('ABmag({}) - ABmag({}) = {:.4f}'.format(obsmode2, obsmode1, color))"
   ]
  },
  {
   "cell_type": "markdown",
   "metadata": {},
   "source": [
    "<a class=\"anchor\" id=\"e4\"></a>\n",
    "### 3.4.1 Example 4a: Find the UV color term for two different spectral types, across the two UVIS chips\n",
    "**Calculate the UV color terms (in the STmag system) for a white dwarf spectrum and a G-type spectrum across the two UVIS chips with the F225W filter. Then, find the difference between these two terms to find the overall offset for the G-type star.**\n",
    "\n",
    "This example should reproduce the results from Figure 4 of [WFC3 ISR 2018-08](https://www.stsci.edu/files/live/sites/www/files/home/hst/instrumentation/wfc3/documentation/instrument-science-reports-isrs/_documents/2018/WFC3-2018-08.pdf).\n",
    "\n",
    "The spectra required to run this example, which are the latest relevant spectra from CALSPEC, are provided in the `example_spectra` sub-directory which was packaged with this notebook."
   ]
  },
  {
   "cell_type": "markdown",
   "metadata": {},
   "source": [
    "First, we set up two bandpasses based on our observation modes, and define our area to be the HST primary mirror area."
   ]
  },
  {
   "cell_type": "code",
   "execution_count": null,
   "metadata": {},
   "outputs": [],
   "source": [
    "obsmode1 = 'wfc3, uvis1, f225w'\n",
    "obsmode2 = 'wfc3, uvis2, f225w'\n",
    "\n",
    "bp1 = stsyn.band(obsmode1)\n",
    "bp2 = stsyn.band(obsmode2)"
   ]
  },
  {
   "cell_type": "markdown",
   "metadata": {},
   "source": [
    "Then, we define our spectra from the provided FITS files."
   ]
  },
  {
   "cell_type": "code",
   "execution_count": null,
   "metadata": {},
   "outputs": [],
   "source": [
    "spec_wd = syn.SourceSpectrum.from_file('example_spectra/gd153_stiswfcnic_003.fits')  # GD 153 (white dwarf)\n",
    "spec_g = syn.SourceSpectrum.from_file('example_spectra/p330e_stiswfcnic_003.fits')  # P330E (G-type)"
   ]
  },
  {
   "cell_type": "markdown",
   "metadata": {},
   "source": [
    "Next, we generate four synthetic Observations, one for each spectrum in each bandpass. Ignore the warning messages."
   ]
  },
  {
   "cell_type": "code",
   "execution_count": null,
   "metadata": {},
   "outputs": [],
   "source": [
    "obs1_wd = syn.Observation(spec_wd, bp1, binset=bp1.binset, force='extrap')\n",
    "obs2_wd = syn.Observation(spec_wd, bp2, binset=bp2.binset, force='extrap')\n",
    "\n",
    "obs1_g = syn.Observation(spec_g, bp1, binset=bp1.binset, force='extrap')\n",
    "obs2_g = syn.Observation(spec_g, bp2, binset=bp1.binset, force='extrap')"
   ]
  },
  {
   "cell_type": "markdown",
   "metadata": {},
   "source": [
    "Following this, we calculate the effective stimuli (in STmag) for these Observations, and find the difference between these values across the two chips for each spectral type."
   ]
  },
  {
   "cell_type": "code",
   "execution_count": null,
   "metadata": {},
   "outputs": [],
   "source": [
    "stim1_wd = obs1_wd.effstim(flux_unit = u.STmag)\n",
    "stim2_wd = obs2_wd.effstim(flux_unit = u.STmag)\n",
    "\n",
    "stim1_g = obs1_g.effstim(flux_unit = u.STmag)\n",
    "stim2_g = obs2_g.effstim(flux_unit = u.STmag)\n",
    "\n",
    "dstim_wd = stim1_wd - stim2_wd\n",
    "dstim_g = stim1_g - stim2_g"
   ]
  },
  {
   "cell_type": "markdown",
   "metadata": {},
   "source": [
    "Finally, we calculate the overall cross-chip color term for the G-type star by finding its offset from the white dwarf."
   ]
  },
  {
   "cell_type": "code",
   "execution_count": null,
   "metadata": {},
   "outputs": [],
   "source": [
    "print('Color Term (UVIS1 - UVIS2): {:.3f}'.format(dstim_g - dstim_wd))"
   ]
  },
  {
   "cell_type": "markdown",
   "metadata": {},
   "source": [
    "<a class=\"anchor\" id=\"e4b\"></a>\n",
    "### 3.4.2 Example 4b: Plot bandpasses and spectra\n",
    "\n",
    "**Create a plot with the bandpasses and spectra used in Example 4a.**\n",
    "\n",
    "**Note:** For the purposes of these plots, the spectra will be scaled to the amplitude of the bandpasses, which reflect the actual total system throughput as a function of wavelength. You will see that the throughput is different between the two chips.\n",
    "\n",
    "First, define a set of wavelengths and a minimum/maximum bound for our plot, based on the average wavelength and witdth of the bandpasses."
   ]
  },
  {
   "cell_type": "code",
   "execution_count": null,
   "metadata": {},
   "outputs": [],
   "source": [
    "avgwave = (bp1.avgwave().to(u.nm) + bp2.avgwave().to(u.nm))/2\n",
    "width = (bp1.rectwidth().to(u.nm) + bp2.rectwidth().to(u.nm))/2\n",
    "\n",
    "left = max((avgwave - 1.5 * width).value, 1)\n",
    "right = (avgwave + 1.5 * width).value\n",
    "\n",
    "wl = np.arange(left, right) * u.nm"
   ]
  },
  {
   "cell_type": "markdown",
   "metadata": {},
   "source": [
    "Next, scale the spectra to the (average) amplitude of the bandpasses."
   ]
  },
  {
   "cell_type": "code",
   "execution_count": null,
   "metadata": {},
   "outputs": [],
   "source": [
    "avg_max = (np.max(bp1(wl)) + np.max(bp2(wl))) / 2\n",
    "scale_wd = avg_max / np.max(spec_wd(wl))\n",
    "scale_g = avg_max / np.max(spec_g(wl))\n",
    "\n",
    "spec_wd_scale = spec_wd(wl) * scale_wd\n",
    "spec_g_scale = spec_g(wl) * scale_g"
   ]
  },
  {
   "cell_type": "markdown",
   "metadata": {},
   "source": [
    "Then, plot the bandpasses and spectra."
   ]
  },
  {
   "cell_type": "code",
   "execution_count": null,
   "metadata": {},
   "outputs": [],
   "source": [
    "plt.figure()\n",
    "\n",
    "plt.xlabel('Wavelength (nm)')\n",
    "plt.ylabel('Throughput')\n",
    "\n",
    "plt.plot(wl, spec_wd_scale, ls=':', c='blue', label='White dwarf spectrum')\n",
    "plt.plot(wl, spec_g_scale, ls=':', c='red', label='G-type spectrum')\n",
    "plt.plot(wl, bp1(wl), ls='-', c='orange', label='UVIS 1 bandpass')\n",
    "plt.plot(wl, bp2(wl), ls='-', c='purple', label='UVIS 2 bandpass')\n",
    "\n",
    "plt.legend(fontsize='small')\n",
    "\n",
    "plt.show()"
   ]
  },
  {
   "cell_type": "markdown",
   "metadata": {},
   "source": [
    "<a id=\"conclusion\"></a>\n",
    "## 4. Conclusions\n",
    "\n",
    "Thank you for walking through this notebook. Now using WFC3 data, you should be more familiar with:\n",
    "\n",
    "- Specifying WFC3 bandpasses in `stsynphot` and define spectra with `synphot`.\n",
    "- Computing inverse sensitivity values an encircled energy corrections for the WFC3 chips.\n",
    "- Renormalizing spectra in one filter and predicting an effective stimulus in another filter.\n",
    "- Finding the color term between two bandpasses.\n",
    "- Finding a UV color term for two different spectral types, across the two UVIS chips.\n",
    "- Plotting bandpasses and spectra.\n",
    "\n",
    "#### Congratulations, you have completed the notebook!"
   ]
  },
  {
   "cell_type": "markdown",
   "metadata": {},
   "source": [
    "<a id=\"resources\"></a>\n",
    "## Additional Resources\n",
    "Below are some additional resources that may be helpful. Please send any questions through the [HST Helpdesk](https://stsci.service-now.com/hst).\n",
    "\n",
    "- [WFC3 Website](https://www.stsci.edu/hst/instrumentation/wfc3)\n",
    "- [WFC3 Instrument Handbook](https://hst-docs.stsci.edu/wfc3ihb)\n",
    "- [WFC3 Data Handbook](https://hst-docs.stsci.edu/wfc3dhb)\n",
    "    - see sections 9.5.2 for reference to this notebook\n",
    "    \n",
    "<a id=\"about\"></a>\n",
    "## About this Notebook\n",
    "\n",
    "**Authors:** Aidan Pidgeon, Jennifer Mack; WFC3 Instrument Team\n",
    "\n",
    "**Updated on:** 2021-09-08\n",
    "\n",
    "<a id=\"cite\"></a>\n",
    "## Citations\n",
    "\n",
    "If you use `numpy`, `astropy`, `synphot`, or `stsynphot` for published research, please cite the\n",
    "authors. Follow these links for more information about citing the libraries below:\n",
    "\n",
    "* [Citing `numpy`](https://www.scipy.org/citing.html#numpy)\n",
    "* [Citing `astropy`](https://www.astropy.org/acknowledging.html)\n",
    "* [Citing `synphot`](https://synphot.readthedocs.io/en/latest/)\n",
    "* [Citing `stsynphot`](https://stsynphot.readthedocs.io/en/latest/index.html)\n",
    "\n",
    "***\n",
    "[Top of Page](#title)\n",
    "<img style=\"float: right;\" src=\"https://raw.githubusercontent.com/spacetelescope/notebooks/master/assets/stsci_pri_combo_mark_horizonal_white_bkgd.png\" alt=\"Space Telescope Logo\" width=\"200px\"/> "
   ]
  },
  {
   "cell_type": "code",
   "execution_count": null,
   "metadata": {},
   "outputs": [],
   "source": []
  }
 ],
 "metadata": {
  "kernelspec": {
   "display_name": "Python 3",
   "language": "python",
   "name": "python3"
  },
  "language_info": {
   "codemirror_mode": {
    "name": "ipython",
    "version": 3
   },
   "file_extension": ".py",
   "mimetype": "text/x-python",
   "name": "python",
   "nbconvert_exporter": "python",
   "pygments_lexer": "ipython3",
   "version": "3.7.5"
  }
 },
 "nbformat": 4,
 "nbformat_minor": 5
}
